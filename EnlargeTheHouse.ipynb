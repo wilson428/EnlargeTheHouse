{
  "nbformat": 4,
  "nbformat_minor": 0,
  "metadata": {
    "colab": {
      "name": "EnlargeTheHouse.ipynb",
      "provenance": [],
      "collapsed_sections": [],
      "authorship_tag": "ABX9TyPRtKykY1WVxm76cVvVyclK",
      "include_colab_link": true
    },
    "kernelspec": {
      "name": "python3",
      "display_name": "Python 3"
    },
    "language_info": {
      "name": "python"
    },
    "widgets": {
      "application/vnd.jupyter.widget-state+json": {
        "86e6950ec5fe41a1936decf4b08f1efe": {
          "model_module": "@jupyter-widgets/controls",
          "model_name": "IntProgressModel",
          "model_module_version": "1.5.0",
          "state": {
            "_view_name": "ProgressView",
            "style": "IPY_MODEL_a99a64b8725e45bbb8d359b9bf735bd1",
            "_dom_classes": [],
            "description": "",
            "_model_name": "IntProgressModel",
            "bar_style": "",
            "max": 1305,
            "_view_module": "@jupyter-widgets/controls",
            "_model_module_version": "1.5.0",
            "value": 1305,
            "_view_count": null,
            "_view_module_version": "1.5.0",
            "orientation": "horizontal",
            "min": 435,
            "description_tooltip": null,
            "_model_module": "@jupyter-widgets/controls",
            "layout": "IPY_MODEL_bdc06dcf20074db09e8f3327cc3f0d06"
          }
        },
        "a99a64b8725e45bbb8d359b9bf735bd1": {
          "model_module": "@jupyter-widgets/controls",
          "model_name": "ProgressStyleModel",
          "model_module_version": "1.5.0",
          "state": {
            "_view_name": "StyleView",
            "_model_name": "ProgressStyleModel",
            "description_width": "",
            "_view_module": "@jupyter-widgets/base",
            "_model_module_version": "1.5.0",
            "_view_count": null,
            "_view_module_version": "1.2.0",
            "bar_color": null,
            "_model_module": "@jupyter-widgets/controls"
          }
        },
        "bdc06dcf20074db09e8f3327cc3f0d06": {
          "model_module": "@jupyter-widgets/base",
          "model_name": "LayoutModel",
          "model_module_version": "1.2.0",
          "state": {
            "_view_name": "LayoutView",
            "grid_template_rows": null,
            "right": null,
            "justify_content": null,
            "_view_module": "@jupyter-widgets/base",
            "overflow": null,
            "_model_module_version": "1.2.0",
            "_view_count": null,
            "flex_flow": null,
            "width": null,
            "min_width": null,
            "border": null,
            "align_items": null,
            "bottom": null,
            "_model_module": "@jupyter-widgets/base",
            "top": null,
            "grid_column": null,
            "overflow_y": null,
            "overflow_x": null,
            "grid_auto_flow": null,
            "grid_area": null,
            "grid_template_columns": null,
            "flex": null,
            "_model_name": "LayoutModel",
            "justify_items": null,
            "grid_row": null,
            "max_height": null,
            "align_content": null,
            "visibility": null,
            "align_self": null,
            "height": null,
            "min_height": null,
            "padding": null,
            "grid_auto_rows": null,
            "grid_gap": null,
            "max_width": null,
            "order": null,
            "_view_module_version": "1.2.0",
            "grid_template_areas": null,
            "object_position": null,
            "object_fit": null,
            "grid_auto_columns": null,
            "margin": null,
            "display": null,
            "left": null
          }
        }
      }
    }
  },
  "cells": [
    {
      "cell_type": "markdown",
      "metadata": {
        "id": "view-in-github",
        "colab_type": "text"
      },
      "source": [
        "<a href=\"https://colab.research.google.com/github/wilson428/EnlargeTheHouse/blob/main/EnlargeTheHouse.ipynb\" target=\"_parent\"><img src=\"https://colab.research.google.com/assets/colab-badge.svg\" alt=\"Open In Colab\"/></a>"
      ]
    },
    {
      "cell_type": "code",
      "metadata": {
        "id": "J082rCvOxFbH"
      },
      "source": [
        "from IPython.display import HTML, Latex\n",
        "import numpy as np\n",
        "import pandas as pd\n",
        "import matplotlib.pyplot as plt\n",
        "from matplotlib import cm\n",
        "from ipywidgets import IntProgress"
      ],
      "execution_count": 1,
      "outputs": []
    },
    {
      "cell_type": "markdown",
      "metadata": {
        "id": "2kpSNqD1xKw8"
      },
      "source": [
        "# What's the Optimal Size of the House?\n",
        "\n",
        "---\n",
        "\n",
        "As I explored in [this 2018 article in TIME](https://time.com/5423623/house-representatives-number-seats/), the House of Representatives is long overdue for an upgrade, having stood at 435 members for nearly 100 years as the population of the country has tripled. How much larger should it be to minimize the difference in how many people each Member represents?\n",
        "\n",
        "At the time, based on figures from the 2010 decennial Census, I argued that it should be 930 seats, a magic number where the variance in people per representative reaches a local minimum. We now have figures for the 2020 Census and the [new apportionment](https://www.census.gov/data/tables/2020/dec/2020-apportionment-data.html) for the 435 seats. How does that figure change? \n",
        "\n",
        "To find out, let's run a computational experiment. The proof-of-concept for these functions, tested against the official Congressional tally, is available in the `Calculating_Apportionment.ipynb` file in this repo or on [Google CoLab](https://colab.research.google.com/drive/1-8L_NODTiCRNxVbFUgyzmiAn8ktMHF7Q?usp=sharing)."
      ]
    },
    {
      "cell_type": "markdown",
      "metadata": {
        "id": "kEF0fFWDxzus"
      },
      "source": [
        "## Loading the Data\n",
        "\n",
        "Congress reapportions the House every 10 years after the decennial Census figures are released. The [GitHub repo for this demo](https://github.com/TimeMagazineLabs/CongressionalApportionment) has data files from Census.gov for the 2010 and 2020 decennial Census counts as well as the official apportionments so that we can check our work. Here's what the data looks like:"
      ]
    },
    {
      "cell_type": "code",
      "metadata": {
        "id": "UYWMLqBAxJIc"
      },
      "source": [
        "dataByDecade = {}\n",
        "\n",
        "for year in range(1910, 2021, 10):\n",
        "  data = pd.read_csv('https://raw.githubusercontent.com/wilson428/EnlargeTheHouse/main/data/apportionment_%s.csv' % year, dtype={'State': 'string', 'Abbr': 'string', 'Reps': 'Int64'})\n",
        "  data['Per_Rep'] = data['Population'] / data['Reps']\n",
        "  dataByDecade['y' + str(year)] = data"
      ],
      "execution_count": 2,
      "outputs": []
    },
    {
      "cell_type": "code",
      "metadata": {
        "colab": {
          "base_uri": "https://localhost:8080/",
          "height": 204
        },
        "id": "jCXMcxsDLT0J",
        "outputId": "679fffb0-0c33-488d-e157-4585d360d225"
      },
      "source": [
        "dataByDecade['y2020'].head()"
      ],
      "execution_count": 3,
      "outputs": [
        {
          "output_type": "execute_result",
          "data": {
            "text/html": [
              "<div>\n",
              "<style scoped>\n",
              "    .dataframe tbody tr th:only-of-type {\n",
              "        vertical-align: middle;\n",
              "    }\n",
              "\n",
              "    .dataframe tbody tr th {\n",
              "        vertical-align: top;\n",
              "    }\n",
              "\n",
              "    .dataframe thead th {\n",
              "        text-align: right;\n",
              "    }\n",
              "</style>\n",
              "<table border=\"1\" class=\"dataframe\">\n",
              "  <thead>\n",
              "    <tr style=\"text-align: right;\">\n",
              "      <th></th>\n",
              "      <th>State</th>\n",
              "      <th>Abbr</th>\n",
              "      <th>Year</th>\n",
              "      <th>Population</th>\n",
              "      <th>Reps</th>\n",
              "      <th>Per_Rep</th>\n",
              "    </tr>\n",
              "  </thead>\n",
              "  <tbody>\n",
              "    <tr>\n",
              "      <th>0</th>\n",
              "      <td>Alabama</td>\n",
              "      <td>AL</td>\n",
              "      <td>2020</td>\n",
              "      <td>5030053</td>\n",
              "      <td>7</td>\n",
              "      <td>718579.000000</td>\n",
              "    </tr>\n",
              "    <tr>\n",
              "      <th>1</th>\n",
              "      <td>Alaska</td>\n",
              "      <td>AK</td>\n",
              "      <td>2020</td>\n",
              "      <td>736081</td>\n",
              "      <td>1</td>\n",
              "      <td>736081.000000</td>\n",
              "    </tr>\n",
              "    <tr>\n",
              "      <th>2</th>\n",
              "      <td>Arizona</td>\n",
              "      <td>AZ</td>\n",
              "      <td>2020</td>\n",
              "      <td>7158923</td>\n",
              "      <td>9</td>\n",
              "      <td>795435.888889</td>\n",
              "    </tr>\n",
              "    <tr>\n",
              "      <th>3</th>\n",
              "      <td>Arkansas</td>\n",
              "      <td>AR</td>\n",
              "      <td>2020</td>\n",
              "      <td>3013756</td>\n",
              "      <td>4</td>\n",
              "      <td>753439.000000</td>\n",
              "    </tr>\n",
              "    <tr>\n",
              "      <th>4</th>\n",
              "      <td>California</td>\n",
              "      <td>CA</td>\n",
              "      <td>2020</td>\n",
              "      <td>39576757</td>\n",
              "      <td>52</td>\n",
              "      <td>761091.480769</td>\n",
              "    </tr>\n",
              "  </tbody>\n",
              "</table>\n",
              "</div>"
            ],
            "text/plain": [
              "        State Abbr  Year  Population  Reps        Per_Rep\n",
              "0     Alabama   AL  2020     5030053     7  718579.000000\n",
              "1      Alaska   AK  2020      736081     1  736081.000000\n",
              "2     Arizona   AZ  2020     7158923     9  795435.888889\n",
              "3    Arkansas   AR  2020     3013756     4  753439.000000\n",
              "4  California   CA  2020    39576757    52  761091.480769"
            ]
          },
          "metadata": {},
          "execution_count": 3
        }
      ]
    },
    {
      "cell_type": "markdown",
      "metadata": {
        "id": "fB_G6LULLklV"
      },
      "source": [
        "As we can easily see, the number of people represented by each Member of Congress has ballooned drastically in the past 100 years "
      ]
    },
    {
      "cell_type": "code",
      "metadata": {
        "colab": {
          "base_uri": "https://localhost:8080/"
        },
        "id": "hqCcM6qSL2gd",
        "outputId": "6db8043b-f5e1-444b-eca2-67be688ffd83"
      },
      "source": [
        "reps1920 = dataByDecade['y1920'][dataByDecade['y1920']['Reps'] > 0]\n",
        "reps2020 = dataByDecade['y2020'][dataByDecade['y2020']['Reps'] > 0]\n",
        "\n",
        "print('In 1920, the %s House Members for %d states represented between %s and %s people' % (\n",
        "  sum(reps1920['Reps']), reps1920.shape[0], '{0:,}'.format(int(min(reps1920['Per_Rep']))), '{0:,}'.format(int(max(reps1920['Per_Rep'])))\n",
        "))\n",
        "\n",
        "print('In 2020, the %s House Members for %d states represented between %s and %s people' % (\n",
        "  sum(reps2020['Reps']), reps2020.shape[0], '{0:,}'.format(int(min(reps2020['Per_Rep']))), '{0:,}'.format(int(max(reps2020['Per_Rep'])))\n",
        "))"
      ],
      "execution_count": 4,
      "outputs": [
        {
          "output_type": "stream",
          "name": "stdout",
          "text": [
            "In 1920, the 435 House Members for 48 states represented between 77,407 and 360,350 people\n",
            "In 2020, the 435 House Members for 50 states represented between 542,703 and 990,837 people\n"
          ]
        }
      ]
    },
    {
      "cell_type": "markdown",
      "metadata": {
        "id": "N2oKYq_EyNFB"
      },
      "source": [
        "## How Apportionment Works: The Equal Proportions Method\n",
        "\n",
        "Since 1940, Congress [has used the \"Equal Proportions Method\"](https://www.census.gov/topics/public-sector/congressional-apportionment/about/computing.html) to apportion the 435 House seats to each state—a figure that is enshired by law, not by mathematics or logic.\n",
        "\n",
        "First, per the Constitution, every state gets one seat. For the remaining 385, each state's \"priority\" is measured by a simple formula that divides its population, as of the most recent decennial Census, by the square root of the product of the number of seats it currently has and that number plus 1 (the [geometric mean](https://mathworld.wolfram.com/GeometricMean.html)):\n",
        "\\begin{equation}\n",
        "priority = \\frac{P}{\\sqrt{n*(n+1)}}\n",
        "\\end{equation}\n",
        "For each seat, one at a time, the state with the highest priority is awarded another representative. Its priority is then recalculated and it moves further back in line. Let's write a Python function to calculate the priority of a state, representated as a row in the table (aka \"DataFrame\") above. (We'll be adding a `RepsCalculated` column to compare to the official tally.)"
      ]
    },
    {
      "cell_type": "code",
      "metadata": {
        "id": "6zlwBQrSxRlI"
      },
      "source": [
        "def EqualProportionsMethod(st):\n",
        "  reps = st[\"RepsCalculated\"]\n",
        "  priority = st[\"Population\"] / np.sqrt(reps * (reps + 1))\n",
        "  return priority"
      ],
      "execution_count": 5,
      "outputs": []
    },
    {
      "cell_type": "markdown",
      "metadata": {
        "id": "fPez48zAzBx2"
      },
      "source": [
        "## Recalculating the apportionments\n",
        "\n",
        "As covered in detail in the [previous Notebook](https://colab.research.google.com/drive/1-8L_NODTiCRNxVbFUgyzmiAn8ktMHF7Q?usp=sharing), we can now write a function to apportion any number of seats we like:"
      ]
    },
    {
      "cell_type": "code",
      "metadata": {
        "id": "kTwEUsCVzOaM"
      },
      "source": [
        "def addNextSeat(df, ORDER=[]):\n",
        "  indexNext = df['Priority'].idxmax() # The index of the row with the highest priority\n",
        "  # Add a seat to the state in that row\n",
        "  df.loc[indexNext,'RepsCalculated'] += 1\n",
        "  # Recompute the priority for this state\n",
        "  df.loc[indexNext,'Priority'] = EqualProportionsMethod(df.loc[indexNext])\n",
        "  # Add the state to the ORDER list\n",
        "  ORDER.append(df.loc[indexNext,'Abbr'])\n",
        "\n",
        "def calculateApportionment(popData=dataByDecade['y2020'], ignoreStates=['District of Columbia', 'Puerto Rico'], TOTAL_SEATS=435):\n",
        "  ORDER_SEATS = []\n",
        "\n",
        "  data_filtered = popData[~popData['State'].isin(ignoreStates)]\n",
        "  data_filtered.reset_index(drop=True)\n",
        "\n",
        "  test_apportionment = data_filtered.copy()\n",
        "  test_apportionment['RepsCalculated'] = 1\n",
        "  test_apportionment[\"Priority\"] = test_apportionment.apply(EqualProportionsMethod, 1)\n",
        "\n",
        "  SEATS_LEFT = TOTAL_SEATS - test_apportionment.shape[0] # This is the number of rows, which will account for any hypothetical states we add\n",
        "  while SEATS_LEFT > 0:\n",
        "    addNextSeat(test_apportionment, ORDER_SEATS)\n",
        "    SEATS_LEFT -= 1\n",
        "\n",
        "  test_apportionment['Per_RepCalculated'] = test_apportionment['Population'] / test_apportionment['RepsCalculated']\n",
        "\n",
        "  return test_apportionment, ORDER_SEATS "
      ],
      "execution_count": 6,
      "outputs": []
    },
    {
      "cell_type": "code",
      "metadata": {
        "colab": {
          "base_uri": "https://localhost:8080/",
          "height": 204
        },
        "id": "IemCeF-z0bd7",
        "outputId": "43511ac4-15e4-4608-b373-aff01628582c"
      },
      "source": [
        "test_2020, order_2020 = calculateApportionment()\n",
        "test_2020.head()"
      ],
      "execution_count": 7,
      "outputs": [
        {
          "output_type": "execute_result",
          "data": {
            "text/html": [
              "<div>\n",
              "<style scoped>\n",
              "    .dataframe tbody tr th:only-of-type {\n",
              "        vertical-align: middle;\n",
              "    }\n",
              "\n",
              "    .dataframe tbody tr th {\n",
              "        vertical-align: top;\n",
              "    }\n",
              "\n",
              "    .dataframe thead th {\n",
              "        text-align: right;\n",
              "    }\n",
              "</style>\n",
              "<table border=\"1\" class=\"dataframe\">\n",
              "  <thead>\n",
              "    <tr style=\"text-align: right;\">\n",
              "      <th></th>\n",
              "      <th>State</th>\n",
              "      <th>Abbr</th>\n",
              "      <th>Year</th>\n",
              "      <th>Population</th>\n",
              "      <th>Reps</th>\n",
              "      <th>Per_Rep</th>\n",
              "      <th>RepsCalculated</th>\n",
              "      <th>Priority</th>\n",
              "      <th>Per_RepCalculated</th>\n",
              "    </tr>\n",
              "  </thead>\n",
              "  <tbody>\n",
              "    <tr>\n",
              "      <th>0</th>\n",
              "      <td>Alabama</td>\n",
              "      <td>AL</td>\n",
              "      <td>2020</td>\n",
              "      <td>5030053</td>\n",
              "      <td>7</td>\n",
              "      <td>718579.000000</td>\n",
              "      <td>7</td>\n",
              "      <td>672169.105833</td>\n",
              "      <td>718579.000000</td>\n",
              "    </tr>\n",
              "    <tr>\n",
              "      <th>1</th>\n",
              "      <td>Alaska</td>\n",
              "      <td>AK</td>\n",
              "      <td>2020</td>\n",
              "      <td>736081</td>\n",
              "      <td>1</td>\n",
              "      <td>736081.000000</td>\n",
              "      <td>1</td>\n",
              "      <td>520487.866603</td>\n",
              "      <td>736081.000000</td>\n",
              "    </tr>\n",
              "    <tr>\n",
              "      <th>2</th>\n",
              "      <td>Arizona</td>\n",
              "      <td>AZ</td>\n",
              "      <td>2020</td>\n",
              "      <td>7158923</td>\n",
              "      <td>9</td>\n",
              "      <td>795435.888889</td>\n",
              "      <td>9</td>\n",
              "      <td>754616.742459</td>\n",
              "      <td>795435.888889</td>\n",
              "    </tr>\n",
              "    <tr>\n",
              "      <th>3</th>\n",
              "      <td>Arkansas</td>\n",
              "      <td>AR</td>\n",
              "      <td>2020</td>\n",
              "      <td>3013756</td>\n",
              "      <td>4</td>\n",
              "      <td>753439.000000</td>\n",
              "      <td>4</td>\n",
              "      <td>673896.328360</td>\n",
              "      <td>753439.000000</td>\n",
              "    </tr>\n",
              "    <tr>\n",
              "      <th>4</th>\n",
              "      <td>California</td>\n",
              "      <td>CA</td>\n",
              "      <td>2020</td>\n",
              "      <td>39576757</td>\n",
              "      <td>52</td>\n",
              "      <td>761091.480769</td>\n",
              "      <td>52</td>\n",
              "      <td>753877.180693</td>\n",
              "      <td>761091.480769</td>\n",
              "    </tr>\n",
              "  </tbody>\n",
              "</table>\n",
              "</div>"
            ],
            "text/plain": [
              "        State Abbr  Year  ...  RepsCalculated       Priority  Per_RepCalculated\n",
              "0     Alabama   AL  2020  ...               7  672169.105833      718579.000000\n",
              "1      Alaska   AK  2020  ...               1  520487.866603      736081.000000\n",
              "2     Arizona   AZ  2020  ...               9  754616.742459      795435.888889\n",
              "3    Arkansas   AR  2020  ...               4  673896.328360      753439.000000\n",
              "4  California   CA  2020  ...              52  753877.180693      761091.480769\n",
              "\n",
              "[5 rows x 9 columns]"
            ]
          },
          "metadata": {},
          "execution_count": 7
        }
      ]
    },
    {
      "cell_type": "markdown",
      "metadata": {
        "id": "z2YpFyQn3A_m"
      },
      "source": [
        "Just to reiterate from the previous workbook, this matches the official apportionment, which the final seat going to Minnesota:"
      ]
    },
    {
      "cell_type": "code",
      "metadata": {
        "colab": {
          "base_uri": "https://localhost:8080/"
        },
        "id": "hlPCk9Ytxbns",
        "outputId": "35d3565e-7901-4ee0-8956-fb4a8b548a85"
      },
      "source": [
        "error = np.abs(test_2020['Reps'] - test_2020['RepsCalculated'])\n",
        "print('Total difference from actual apportionment: %d' % max(error))\n",
        "print('Final seat went to %s' % order_2020[-1])"
      ],
      "execution_count": 8,
      "outputs": [
        {
          "output_type": "stream",
          "name": "stdout",
          "text": [
            "Total difference from actual apportionment: 0\n",
            "Final seat went to MN\n"
          ]
        }
      ]
    },
    {
      "cell_type": "markdown",
      "metadata": {
        "id": "ZwUqajhLD6oo"
      },
      "source": [
        "Since we'll be measuring success based on the difference between how well states are represented, let's see what these values actually look like:"
      ]
    },
    {
      "cell_type": "code",
      "metadata": {
        "colab": {
          "base_uri": "https://localhost:8080/",
          "height": 499
        },
        "id": "HZ5ffe1nD9Ws",
        "outputId": "69f27b75-a573-4b00-c608-8286ac83d54e"
      },
      "source": [
        "def plotResults(apportionment):\n",
        "  df = apportionment.copy().sort_values('Per_RepCalculated')\n",
        "  y = df['Per_RepCalculated']\n",
        "  colors = cm.hsv(y / max(y))\n",
        "  fig = plt.figure(figsize=(16, 8), frameon=True);\n",
        "  plt.title(\"Representation by State: 435 Seats\")\n",
        "  plt.ylabel('People / Representative')\n",
        "  ax = fig.gca();\n",
        "  ax.bar(df['Abbr'],y,color=colors)\n",
        "\n",
        "plotResults(test_2020)"
      ],
      "execution_count": 9,
      "outputs": [
        {
          "output_type": "display_data",
          "data": {
            "image/png": "[encoded data removed]",
            "text/plain": [
              "<Figure size 1152x576 with 1 Axes>"
            ]
          },
          "metadata": {
            "needs_background": "light"
          }
        }
      ]
    },
    {
      "cell_type": "markdown",
      "metadata": {
        "id": "l-W2IHbG3IbY"
      },
      "source": [
        "# Scoring the Results\n",
        "\n",
        "So how well does the current apportionment represent every American equally? In my original experiment, I used the coefficient of variation as a meter of success. One great way to \"score\" the results is the [\"Coefficient of Variation,\"](https://www.investopedia.com/terms/c/coefficientofvariation.asp) a simple statistical method of normalizing the standard deviation by dividing it by the average value. (We could also use a simple range from the lowest to highest values or the [\"Average Squared Deviation\"](https://people.richland.edu/james/lecture/m113/variation.html) in future research.)"
      ]
    },
    {
      "cell_type": "code",
      "metadata": {
        "colab": {
          "base_uri": "https://localhost:8080/"
        },
        "id": "7MHA9A9SxgNh",
        "outputId": "240f4307-f0df-4aa8-cf27-c592e8d1daec"
      },
      "source": [
        "def SCORE_coeff_of_variance(vals):\n",
        "  return np.std(vals) / np.mean(vals)\n",
        "\n",
        "SCORE_coeff_of_variance(test_2020['Per_Rep'])"
      ],
      "execution_count": 10,
      "outputs": [
        {
          "output_type": "execute_result",
          "data": {
            "text/plain": [
              "0.10299165948743454"
            ]
          },
          "metadata": {},
          "execution_count": 10
        }
      ]
    },
    {
      "cell_type": "markdown",
      "metadata": {
        "id": "DTHnoDAy3vUr"
      },
      "source": [
        "Using the coefficient of variance, the current score is about 0.1, which might be better with more seats. Since we made the number of seats a variable, let's see if it improves if we add 25 seats:"
      ]
    },
    {
      "cell_type": "code",
      "metadata": {
        "colab": {
          "base_uri": "https://localhost:8080/"
        },
        "id": "RniBLkjr5QhB",
        "outputId": "e1d8735b-6711-44ff-fa64-754a0d762f5a"
      },
      "source": [
        "test_460, order_460 = calculateApportionment(TOTAL_SEATS=460)\n",
        "print(order_460[-1])\n",
        "SCORE_coeff_of_variance(test_460['Per_RepCalculated'])"
      ],
      "execution_count": 11,
      "outputs": [
        {
          "output_type": "stream",
          "name": "stdout",
          "text": [
            "MO\n"
          ]
        },
        {
          "output_type": "execute_result",
          "data": {
            "text/plain": [
              "0.09990156250807743"
            ]
          },
          "metadata": {},
          "execution_count": 11
        }
      ]
    },
    {
      "cell_type": "markdown",
      "metadata": {
        "id": "LIAT-ohW4YFt"
      },
      "source": [
        "Yep, a House of Representatives of 460 seats would have a lower variance in how equally each American is represented, with the last seat going to Missouri. Is there an optimal number? Let's just try every value from 435 to 1,305, three times that.\n",
        "\n",
        "While we could run the `calculateApportionment` function 970 times, this will take around 10 minutes--believe me, I tried! But that would be wasteful, because each iteration is recomputing the same order of seats and just adding another. So we can save a lot of time by running this once, for 1,035 seats, and then applying the order to however many seats we want, like so:"
      ]
    },
    {
      "cell_type": "code",
      "metadata": {
        "id": "iShHW4EIqQft"
      },
      "source": [
        "apportionment_1305, ORDER_1305 = calculateApportionment(TOTAL_SEATS=435*3)"
      ],
      "execution_count": 12,
      "outputs": []
    },
    {
      "cell_type": "markdown",
      "metadata": {
        "id": "R6ogDV_1qdN5"
      },
      "source": [
        "Now we just need a function to take a subset of that grand order, up to however many seats we want, and dole them out:"
      ]
    },
    {
      "cell_type": "code",
      "metadata": {
        "id": "brnJovKjqcZD"
      },
      "source": [
        "def computeSeats(popData=dataByDecade['y2020'], ignoreStates=['District of Columbia', 'Puerto Rico'], TOTAL_SEATS=435):\n",
        "\n",
        "  # Make a copy of the population dataframe, then join them\n",
        "  data_filtered = popData[~popData['State'].isin(ignoreStates)]\n",
        "  data_filtered.reset_index(drop=True)\n",
        "\n",
        "  # Remember to subtract the number of states from the total we apportion one automatically\n",
        "  orderX = ORDER_1305[:TOTAL_SEATS - len(data_filtered)]\n",
        "\n",
        "  # Here's a little trick: Assuming that every state gets at least one seat in the 1,305 scenario, we can use `set` to reduce to unique abbreviations:\n",
        "  abbrs = set(ORDER_1305)\n",
        "  # print(len(abbrs)) # will be 50\n",
        "\n",
        "  # Here's another neat trick for tallying the number of duplicate items in a list\n",
        "  # h/t https://stackoverflow.com/questions/42317134/how-to-get-a-tally-of-each-letter-in-a-string\n",
        "  # This will assign 1 to each state even if it never shows up in the order (e.g. AK in the 435 scenario)\n",
        "  seats = { st: 1 + orderX.count(st) for st in abbrs }\n",
        "\n",
        "  # convert the dictionary to a list of tuples\n",
        "  seats = [ (st,reps) for st,reps in seats.items() ]\n",
        "\n",
        "  # then convert it to a dataframe\n",
        "  df = pd.DataFrame(seats, columns = ['Abbr', 'RepsCalculated'])\n",
        "  df = df.astype({ 'Abbr': 'string', 'RepsCalculated': 'Int64' })\n",
        "\n",
        "  apportionmentX = data_filtered.copy()\n",
        "  apportionmentX = apportionmentX.set_index(\"Abbr\").join(df.set_index(\"Abbr\"))\n",
        "  apportionmentX['Per_RepCalculated'] = apportionmentX['Population'] / apportionmentX['RepsCalculated']\n",
        "\n",
        "  # print(len(orderX), len(ORDER_1035))\n",
        "  return apportionmentX, orderX"
      ],
      "execution_count": 13,
      "outputs": []
    },
    {
      "cell_type": "markdown",
      "metadata": {
        "id": "23u69N712Cwz"
      },
      "source": [
        "Again, let's run a sanity test to make sure this method computes correctly for the real apportionment"
      ]
    },
    {
      "cell_type": "code",
      "metadata": {
        "colab": {
          "base_uri": "https://localhost:8080/"
        },
        "id": "4t-kScCXxXrV",
        "outputId": "d43a393b-1cab-4b91-dfd5-ea9ff0b4e8cc"
      },
      "source": [
        "test_2020B, order_2020B = computeSeats(TOTAL_SEATS=435)\n",
        "test_2020B.head()\n",
        "\n",
        "error = np.abs(test_2020B['Reps'] - test_2020B['RepsCalculated'])\n",
        "print('Total difference from actual apportionment: %d' % max(error))\n",
        "print('Final seat went to %s' % order_2020B[-1])"
      ],
      "execution_count": 14,
      "outputs": [
        {
          "output_type": "stream",
          "name": "stdout",
          "text": [
            "Total difference from actual apportionment: 0\n",
            "Final seat went to MN\n"
          ]
        }
      ]
    },
    {
      "cell_type": "markdown",
      "metadata": {
        "id": "8hrKe1e0_fK2"
      },
      "source": [
        "Once again, looks good! Let's try it for all sizes:"
      ]
    },
    {
      "cell_type": "code",
      "metadata": {
        "id": "hd-8s1Q_lPbr",
        "colab": {
          "base_uri": "https://localhost:8080/",
          "height": 49,
          "referenced_widgets": [
            "86e6950ec5fe41a1936decf4b08f1efe",
            "a99a64b8725e45bbb8d359b9bf735bd1",
            "bdc06dcf20074db09e8f3327cc3f0d06"
          ]
        },
        "outputId": "cedcaebb-f77e-466d-84af-5cb181ebfec6"
      },
      "source": [
        "SIZES = list(range(435,435*3))\n",
        "TRIALS = []\n",
        "\n",
        "progressBar = IntProgress(min=435, max=435*3) # instantiate the bar\n",
        "display(progressBar) # display the bar\n",
        "\n",
        "for s in SIZES:\n",
        "  apportionmentN, orderN = computeSeats(TOTAL_SEATS=s)\n",
        "  TRIALS.append({\n",
        "      'size': s,\n",
        "      'apportionment': apportionmentN,\n",
        "      'order': orderN,\n",
        "      'score': SCORE_coeff_of_variance(apportionmentN['Per_RepCalculated'])\n",
        "  })\n",
        "  progressBar.value += 1"
      ],
      "execution_count": 15,
      "outputs": [
        {
          "output_type": "display_data",
          "data": {
            "application/vnd.jupyter.widget-view+json": {
              "model_id": "86e6950ec5fe41a1936decf4b08f1efe",
              "version_minor": 0,
              "version_major": 2
            },
            "text/plain": [
              "IntProgress(value=435, max=1305, min=435)"
            ]
          },
          "metadata": {}
        }
      ]
    },
    {
      "cell_type": "markdown",
      "metadata": {
        "id": "FroGco0IEUNe"
      },
      "source": [
        "Trust me, that went WAY faster than reculating the apportionment from scratch every time. How did we do? Let's plot the scores for all three scoring methods."
      ]
    },
    {
      "cell_type": "code",
      "metadata": {
        "id": "xIE7OW9B86s_",
        "colab": {
          "base_uri": "https://localhost:8080/",
          "height": 513
        },
        "outputId": "b3367c2c-e441-43d7-a0c0-cf09270ab9d9"
      },
      "source": [
        "def plotScores():\n",
        "  SCORES = [x['score'] for x in TRIALS]\n",
        "  fig = plt.figure(figsize=(12, 8), frameon=True);\n",
        "  plt.title('Score by Size of House')\n",
        "  plt.xlabel('Number of seats')\n",
        "  plt.ylabel('Coefficient of Variance')\n",
        "  ax = fig.gca();\n",
        "  ax.plot(SIZES, SCORES, 'o', markersize=2)\n",
        "\n",
        "plotScores()"
      ],
      "execution_count": 16,
      "outputs": [
        {
          "output_type": "display_data",
          "data": {
            "image/png": "[encoded data removed]",
            "text/plain": [
              "<Figure size 864x576 with 1 Axes>"
            ]
          },
          "metadata": {
            "needs_background": "light"
          }
        }
      ]
    },
    {
      "cell_type": "markdown",
      "metadata": {
        "id": "DRCPqh1YEYN8"
      },
      "source": [
        "This is curious! While the variation, or \"score,\" goes down generally as the size of the House increases, as we'd expect, there are clearly ideal values, as we saw last time [I ran this experiment](https://time.com/5423623/house-representatives-number-seats/). Let's identify and plot them:"
      ]
    },
    {
      "cell_type": "code",
      "metadata": {
        "id": "11YFICmi-8DW",
        "colab": {
          "base_uri": "https://localhost:8080/",
          "height": 632
        },
        "outputId": "d7a4ccbb-4ed5-47a9-fd31-063373b14f14"
      },
      "source": [
        "def calculateDropPoints():\n",
        "\n",
        "  SCORES = [x['score'] for x in TRIALS]\n",
        "\n",
        "  results = pd.DataFrame({\n",
        "    'size': SIZES,\n",
        "    'score': SCORES\n",
        "  })\n",
        "\n",
        "  # calculate the drop from the previous value, and reduce to the 10 largest drops, then resort by score\n",
        "  results['delta'] = results.score -  results.score.shift(1)\n",
        "  idealValues = results.sort_values('delta').head(10).sort_values('score')\n",
        "  print('Lowest values after drop:')\n",
        "  print(idealValues.head(5))\n",
        "\n",
        "  dropPoints = list(idealValues['size'][:])\n",
        "  dropValues = list(idealValues['score'][:])\n",
        "\n",
        "  fig = plt.figure(figsize=(12, 8), frameon=True);\n",
        "  plt.title(\"Drop Points for Coefficient of Variance\")\n",
        "  plt.xlabel('Number of seats')\n",
        "  plt.ylabel('Coefficient of Variance')\n",
        "  ax = fig.gca();\n",
        "  ax.plot(SIZES, SCORES, 'o', markersize=2)\n",
        "  ax.plot(dropPoints, dropValues, 'o', markersize=8)\n",
        "\n",
        "  return(dropPoints)\n",
        "\n",
        "topDropPoints = calculateDropPoints()"
      ],
      "execution_count": 17,
      "outputs": [
        {
          "output_type": "stream",
          "name": "stdout",
          "text": [
            "Lowest values after drop:\n",
            "     size     score     delta\n",
            "673  1108  0.045743 -0.005190\n",
            "482   917  0.049247 -0.004085\n",
            "413   848  0.065905 -0.002544\n",
            "384   819  0.075262 -0.002355\n",
            "376   811  0.077571 -0.009300\n"
          ]
        },
        {
          "output_type": "display_data",
          "data": {
            "image/png": "[encoded data removed]",
            "text/plain": [
              "<Figure size 864x576 with 1 Axes>"
            ]
          },
          "metadata": {
            "needs_background": "light"
          }
        }
      ]
    },
    {
      "cell_type": "markdown",
      "metadata": {
        "id": "adT2CZSM_3bo"
      },
      "source": [
        "## What's Causing the Drops?\n",
        "\n",
        "Let's see if there are any interesting properties in these magic values, like the minimum and maximum number of reps per state and the mean number of people per representative, as well as who got the last seat and the smallest number of seats:"
      ]
    },
    {
      "cell_type": "code",
      "metadata": {
        "id": "O4mGDOQW_2dO"
      },
      "source": [
        "testPoints = [x for x in TRIALS if x['size'] in topDropPoints]\n",
        "SCENARIOS = []\n",
        "\n",
        "for trial in testPoints:\n",
        "  vals = trial['apportionment']['Per_RepCalculated']\n",
        "  seats = trial['apportionment']['RepsCalculated'].tolist()\n",
        "\n",
        "  SCENARIOS.append({\n",
        "    'size': trial['size'],\n",
        "    'score': trial['score'],\n",
        "    'perRepMin': min(vals),\n",
        "    'perRepMax': max(vals),\n",
        "    'perRepMean': np.mean(vals),\n",
        "    'minSeats': min(seats),\n",
        "    'statesWithMinimumSeats': seats.count(min(seats)),\n",
        "    'lastSeat': trial['order'][-1]\n",
        "  })"
      ],
      "execution_count": 18,
      "outputs": []
    },
    {
      "cell_type": "code",
      "metadata": {
        "colab": {
          "base_uri": "https://localhost:8080/",
          "height": 359
        },
        "id": "3flgLsSPnIdc",
        "outputId": "e7262e7e-632b-4018-9135-63d63161b47a"
      },
      "source": [
        "df = pd.DataFrame.from_dict(SCENARIOS)\n",
        "df.sort_values('size')\n",
        "df"
      ],
      "execution_count": 19,
      "outputs": [
        {
          "output_type": "execute_result",
          "data": {
            "text/html": [
              "<div>\n",
              "<style scoped>\n",
              "    .dataframe tbody tr th:only-of-type {\n",
              "        vertical-align: middle;\n",
              "    }\n",
              "\n",
              "    .dataframe tbody tr th {\n",
              "        vertical-align: top;\n",
              "    }\n",
              "\n",
              "    .dataframe thead th {\n",
              "        text-align: right;\n",
              "    }\n",
              "</style>\n",
              "<table border=\"1\" class=\"dataframe\">\n",
              "  <thead>\n",
              "    <tr style=\"text-align: right;\">\n",
              "      <th></th>\n",
              "      <th>size</th>\n",
              "      <th>score</th>\n",
              "      <th>perRepMin</th>\n",
              "      <th>perRepMax</th>\n",
              "      <th>perRepMean</th>\n",
              "      <th>minSeats</th>\n",
              "      <th>statesWithMinimumSeats</th>\n",
              "      <th>lastSeat</th>\n",
              "    </tr>\n",
              "  </thead>\n",
              "  <tbody>\n",
              "    <tr>\n",
              "      <th>0</th>\n",
              "      <td>473</td>\n",
              "      <td>0.091049</td>\n",
              "      <td>495418.500000</td>\n",
              "      <td>887770.000000</td>\n",
              "      <td>692717.863082</td>\n",
              "      <td>1</td>\n",
              "      <td>5</td>\n",
              "      <td>DE</td>\n",
              "    </tr>\n",
              "    <tr>\n",
              "      <th>1</th>\n",
              "      <td>526</td>\n",
              "      <td>0.083756</td>\n",
              "      <td>443885.000000</td>\n",
              "      <td>779702.000000</td>\n",
              "      <td>629202.604718</td>\n",
              "      <td>1</td>\n",
              "      <td>4</td>\n",
              "      <td>SD</td>\n",
              "    </tr>\n",
              "    <tr>\n",
              "      <th>2</th>\n",
              "      <td>601</td>\n",
              "      <td>0.092744</td>\n",
              "      <td>389851.000000</td>\n",
              "      <td>736081.000000</td>\n",
              "      <td>549025.108946</td>\n",
              "      <td>1</td>\n",
              "      <td>3</td>\n",
              "      <td>ND</td>\n",
              "    </tr>\n",
              "    <tr>\n",
              "      <th>3</th>\n",
              "      <td>641</td>\n",
              "      <td>0.081955</td>\n",
              "      <td>368040.500000</td>\n",
              "      <td>643503.000000</td>\n",
              "      <td>511273.805858</td>\n",
              "      <td>1</td>\n",
              "      <td>2</td>\n",
              "      <td>AK</td>\n",
              "    </tr>\n",
              "    <tr>\n",
              "      <th>4</th>\n",
              "      <td>728</td>\n",
              "      <td>0.082856</td>\n",
              "      <td>321751.500000</td>\n",
              "      <td>577719.000000</td>\n",
              "      <td>456041.125297</td>\n",
              "      <td>1</td>\n",
              "      <td>1</td>\n",
              "      <td>VT</td>\n",
              "    </tr>\n",
              "    <tr>\n",
              "      <th>5</th>\n",
              "      <td>811</td>\n",
              "      <td>0.077571</td>\n",
              "      <td>288859.500000</td>\n",
              "      <td>495418.500000</td>\n",
              "      <td>405550.329794</td>\n",
              "      <td>2</td>\n",
              "      <td>6</td>\n",
              "      <td>WY</td>\n",
              "    </tr>\n",
              "    <tr>\n",
              "      <th>6</th>\n",
              "      <td>819</td>\n",
              "      <td>0.075262</td>\n",
              "      <td>288859.500000</td>\n",
              "      <td>459696.333333</td>\n",
              "      <td>400053.037279</td>\n",
              "      <td>2</td>\n",
              "      <td>5</td>\n",
              "      <td>DE</td>\n",
              "    </tr>\n",
              "    <tr>\n",
              "      <th>7</th>\n",
              "      <td>848</td>\n",
              "      <td>0.065905</td>\n",
              "      <td>288859.500000</td>\n",
              "      <td>443885.000000</td>\n",
              "      <td>383700.929714</td>\n",
              "      <td>2</td>\n",
              "      <td>5</td>\n",
              "      <td>ME</td>\n",
              "    </tr>\n",
              "    <tr>\n",
              "      <th>8</th>\n",
              "      <td>917</td>\n",
              "      <td>0.049247</td>\n",
              "      <td>288859.500000</td>\n",
              "      <td>392666.600000</td>\n",
              "      <td>358310.239965</td>\n",
              "      <td>2</td>\n",
              "      <td>4</td>\n",
              "      <td>SD</td>\n",
              "    </tr>\n",
              "    <tr>\n",
              "      <th>9</th>\n",
              "      <td>1108</td>\n",
              "      <td>0.045743</td>\n",
              "      <td>245360.333333</td>\n",
              "      <td>330279.000000</td>\n",
              "      <td>295759.126984</td>\n",
              "      <td>2</td>\n",
              "      <td>2</td>\n",
              "      <td>AK</td>\n",
              "    </tr>\n",
              "  </tbody>\n",
              "</table>\n",
              "</div>"
            ],
            "text/plain": [
              "   size     score      perRepMin  ...  minSeats  statesWithMinimumSeats  lastSeat\n",
              "0   473  0.091049  495418.500000  ...         1                       5        DE\n",
              "1   526  0.083756  443885.000000  ...         1                       4        SD\n",
              "2   601  0.092744  389851.000000  ...         1                       3        ND\n",
              "3   641  0.081955  368040.500000  ...         1                       2        AK\n",
              "4   728  0.082856  321751.500000  ...         1                       1        VT\n",
              "5   811  0.077571  288859.500000  ...         2                       6        WY\n",
              "6   819  0.075262  288859.500000  ...         2                       5        DE\n",
              "7   848  0.065905  288859.500000  ...         2                       5        ME\n",
              "8   917  0.049247  288859.500000  ...         2                       4        SD\n",
              "9  1108  0.045743  245360.333333  ...         2                       2        AK\n",
              "\n",
              "[10 rows x 8 columns]"
            ]
          },
          "metadata": {},
          "execution_count": 19
        }
      ]
    },
    {
      "cell_type": "markdown",
      "metadata": {
        "id": "DhwHA9veazEQ"
      },
      "source": [
        "As we see, there are many optimal values that get increasingly more equal as the size grows. **The value 917 has a dramatic drop to a covariance below .05**, and increasing the size beyong that doesn't improve the score that much.\n",
        "\n",
        "But if that's too big a House for your liking, even 473 is a huge improvement. And 811 is a notable figure since it's the first value that organically assigns at least 2 representatives to each state."
      ]
    },
    {
      "cell_type": "markdown",
      "metadata": {
        "id": "c4HPvnBgDXJq"
      },
      "source": [
        "# Next Up:\n",
        "\n",
        "What if there's a better algorithm than the Equal Proportions Method? Or a better way to measure the results than the coefficient of variance? The above code is sufficiently modular that you can clone this repo or notebook and substitute in any function you like. If you find something interesting, please e-mail me at chris.wilson@time.com. Good luck&mdash;the future of democracy is in your hands!"
      ]
    }
  ]
}